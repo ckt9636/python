{
 "cells": [
  {
   "cell_type": "code",
   "execution_count": 1,
   "metadata": {},
   "outputs": [
    {
     "name": "stderr",
     "output_type": "stream",
     "text": [
      "C:\\ProgramData\\Anaconda3\\lib\\site-packages\\h5py\\__init__.py:36: FutureWarning: Conversion of the second argument of issubdtype from `float` to `np.floating` is deprecated. In future, it will be treated as `np.float64 == np.dtype(float).type`.\n",
      "  from ._conv import register_converters as _register_converters\n"
     ]
    }
   ],
   "source": [
    "import tensorflow as tf"
   ]
  },
  {
   "cell_type": "code",
   "execution_count": 5,
   "metadata": {},
   "outputs": [
    {
     "name": "stdout",
     "output_type": "stream",
     "text": [
      "390\n"
     ]
    }
   ],
   "source": [
    "# 상수정의\n",
    "a = tf.constant(120, name = \"a\")\n",
    "b = tf.constant(130, name = \"b\")\n",
    "c = tf.constant(140, name = \"c\")\n",
    "\n",
    "# 변수정의하기\n",
    "v = tf.Variable(0, name = \"v\")\n",
    "\n",
    "# 데이터플로우 그래프 정의하기\n",
    "calc_op = a+b+c\n",
    "\n",
    "# a+b+c연산 후 v에 값 저장\n",
    "assign_op = tf.assign(v, calc_op)\n",
    "\n",
    "#세션 시작하기\n",
    "sess = tf.Session()\n",
    "sess.run(assign_op)\n",
    "\n",
    "print(sess.run(v))"
   ]
  },
  {
   "cell_type": "code",
   "execution_count": null,
   "metadata": {},
   "outputs": [],
   "source": []
  }
 ],
 "metadata": {
  "kernelspec": {
   "display_name": "Python 3",
   "language": "python",
   "name": "python3"
  },
  "language_info": {
   "codemirror_mode": {
    "name": "ipython",
    "version": 3
   },
   "file_extension": ".py",
   "mimetype": "text/x-python",
   "name": "python",
   "nbconvert_exporter": "python",
   "pygments_lexer": "ipython3",
   "version": "3.6.4"
  }
 },
 "nbformat": 4,
 "nbformat_minor": 2
}
