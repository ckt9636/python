{
 "cells": [
  {
   "cell_type": "markdown",
   "metadata": {},
   "source": [
    "# 데이터 불러오기 from web"
   ]
  },
  {
   "cell_type": "code",
   "execution_count": 2,
   "metadata": {},
   "outputs": [
    {
     "name": "stdout",
     "output_type": "stream",
     "text": [
      "기상청 육상 중기예보\n",
      "이번 예보기간에는 고기압의 영향으로 대체로 맑은 날이 많겠습니다.  <br />기온은 평년(최저기온: 15~20도, 최고기온: 22~29도)과 전반에는 비슷하겠고, 후반에는 조금 높겠습니다.<br />강수량은 평년(3~19mm)보다 적겠습니다.\n"
     ]
    }
   ],
   "source": [
    "import requests, bs4, pandas as pd\n",
    "#웹페이지 html 소스 가져오기\n",
    "resp = requests.get('http://www.kma.go.kr/weather/forecast/mid-term-rss3.jsp')\n",
    "resp.encoding='utf-8'\n",
    "html = resp.text\n",
    "\n",
    "bs = bs4.BeautifulSoup(html, 'html.parser')\n",
    "\n",
    "# html 구조 태그로 가져오기\n",
    "title = bs.find(\"title\").text\n",
    "wf = bs.find(\"wf\").text\n",
    "print(title)\n",
    "print(wf)\n",
    "\n"
   ]
  },
  {
   "cell_type": "markdown",
   "metadata": {},
   "source": [
    "### 데이터 불러오기 from web [태그 찾기-find]\n"
   ]
  },
  {
   "cell_type": "markdown",
   "metadata": {},
   "source": [
    " ## bs = bs4.BeautifulSoup(html, \"html.parser\")\n",
    "## # div에서 클래스가 class_db_quiz인것만 추출\n",
    "## divs = bs.find or findAll(“태그명”)\n",
    "## print(divs)\n"
   ]
  },
  {
   "cell_type": "code",
   "execution_count": 8,
   "metadata": {},
   "outputs": [
    {
     "name": "stdout",
     "output_type": "stream",
     "text": [
      "<div class=\"class_py_quiz\" id=\"id_py_quiz\">\n",
      "<h1>Python 퀴즈 </h1>\n",
      "<a href=\"https://docs.google.com/forms/d/e/1FAIpQLScoGQuidGNCFerQZ6Dw5t6PndPPT62EvrncPLL3xLUfulRTyA/viewform?usp=sf_link\"> 6/14 파이썬 데이터 불러오기/저장하기 </a>\n",
      "<p></p>\n",
      "<a href=\"https://docs.google.com/forms/d/e/1FAIpQLSftZ-2VYfHB46FrwFG2HjbRDBtLSO0XP2BmiHh3iqwGoi3pQQ/viewform?usp=sf_link\"> 6/8 postgres 과제 </a>\n",
      "<p></p>\n",
      "<a href=\"https://docs.google.com/forms/d/e/1FAIpQLSeZBKjrZD1nAf4aAYhz_WEAqbzwPUPihgMEfXy74e0IMRwXKw/viewform?usp=sf_link\"> 6/8 파이썬 제어문 </a>\n",
      "<p></p>\n",
      "<a href=\"https://docs.google.com/forms/d/e/1FAIpQLSdvFbZGNm7rSGQO_daDSWHC8o1BNgZtIBajLaiOcvgV2iV0IA/viewform?usp=sf_link\"> 6/7 파이썬 자료형 </a>\n",
      "<p></p>\n",
      "<a href=\"https://docs.google.com/forms/d/e/1FAIpQLSehRuBYKpXNULxkamM8zVOd_mkFwZYwKtAp8Px0Kl0oCJbIeA/viewform?usp=sf_link\"> 5/31 파이썬 머신러닝 </a>\n",
      "<p></p>\n",
      "<a href=\"https://docs.google.com/forms/d/e/1FAIpQLSeVt843wk9MBxLj0N84q_8Vg4yL1jTrOygA5Cm3z-asPDY1sg/viewform?usp=sf_link\"> 5/24 파이썬 시작하기 </a>\n",
      "<p></p>\n",
      "</div>\n"
     ]
    }
   ],
   "source": [
    "import requests, bs4, pandas as pd, numpy as np\n",
    " \n",
    "#웹페이지 html 소스 가져오기\n",
    "resp = requests.get('http://13.209.33.89:3333/quiz')\n",
    "resp.encoding='utf-8'\n",
    "html = resp.text\n",
    "\n",
    "bs = bs4.BeautifulSoup(html, 'html.parser')\n",
    "\n",
    "# html 부분구조 가져오기\n",
    "find_tag = bs.find(\"div\")\n",
    "print(find_tag)\n"
   ]
  },
  {
   "cell_type": "markdown",
   "metadata": {},
   "source": [
    "## 데이터 불러오기 from web [속성 찾기]\n"
   ]
  },
  {
   "cell_type": "markdown",
   "metadata": {},
   "source": [
    " ### bs = bs4.BeautifulSoup(html, “html.parser”)\n",
    "###   # findAll : 모두찾기 find : 한개만\n",
    "findAttr = bs.findAll or find(“태그명”, {“속성명”:”속성이름“})\n"
   ]
  },
  {
   "cell_type": "code",
   "execution_count": 10,
   "metadata": {},
   "outputs": [
    {
     "name": "stdout",
     "output_type": "stream",
     "text": [
      "<div class=\"class_db_quiz\" id=\"id_db_quiz\">\n",
      "<h1>데이터베이스 퀴즈 </h1>\n",
      "<a href=\"https://docs.google.com/forms/d/e/1FAIpQLSff5TjqUq9u-jRxYZvTdB7k-N0AEjx0_WSIcLZCBfFiEfoRUA/viewform?usp=sf_link\"> 6/12 오라클 Join 퀴즈 </a>\n",
      "<p></p>\n",
      "<a href=\"https://docs.google.com/forms/d/e/1FAIpQLScP3ojzBNFbKbTFq4r58GqqZODYom1d6jrn09rmdqT57uByVA/viewform?usp=sf_link\"> 6/5 오라클 GroupBy 퀴즈 </a>\n",
      "<p></p>\n",
      "<a href=\"https://docs.google.com/forms/d/e/1FAIpQLSfU5Pv_GQOLV-SkrDirOGt4GLDP3sZpy-UPY4zsud2ODPknbA/viewform?usp=sf_link\"> 5/29 오라클 숫자/날짜 및 고급함수 </a>\n",
      "<p></p>\n",
      "<a href=\"https://docs.google.com/forms/d/e/1FAIpQLSdFuYrwaYE6HEzQft21Icj_2yPyQqkcSabuvnaWwO47v99XmA/viewform?usp=sf_link\"> 5/15 오라클 데이터 조회(함수활용)  </a>\n",
      "<p></p>\n",
      "<a href=\"https://docs.google.com/forms/d/e/1FAIpQLSd8MAsXIKIteOM4OFCggUoYeOqC5aGI-2aQFLV8533HkbTz-w/viewform?usp=sf_link\"> 5/8 오라클 원격접속 및 조회 </a>\n",
      "<p></p>\n",
      "<a href=\"https://docs.google.com/forms/d/e/1FAIpQLSeYl0KM70XWhjnTIVLfqX5H5tp2V3jx2bwJMyZrTSeak2HZWw/viewform?usp=sf_link\"> 4/10 무결성 제약조건 </a>\n",
      "</div>\n"
     ]
    }
   ],
   "source": [
    "import requests, bs4, pandas as pd, numpy as np\n",
    " \n",
    "#웹페이지 html 소스 가져오기\n",
    "resp = requests.get('http://13.209.33.89:3333/quiz')\n",
    "resp.encoding='utf-8'\n",
    "html = resp.text\n",
    "\n",
    "bs = bs4.BeautifulSoup(html, 'html.parser')\n",
    "\n",
    "# html 태그 속성으로 찾기\n",
    "find_attr = bs.find(\"div\",{\"id\":\"id_db_quiz\"})\n",
    "print(find_attr)\n"
   ]
  },
  {
   "cell_type": "markdown",
   "metadata": {},
   "source": [
    "## QUIZ 퀴즈내 링크만 전부 FOR LOOP를 활용하여 추출하세요!\n"
   ]
  },
  {
   "cell_type": "code",
   "execution_count": 5,
   "metadata": {
    "scrolled": true
   },
   "outputs": [
    {
     "name": "stdout",
     "output_type": "stream",
     "text": [
      " 6/14 파이썬 데이터 불러오기/저장하기  / https://docs.google.com/forms/d/e/1FAIpQLScoGQuidGNCFerQZ6Dw5t6PndPPT62EvrncPLL3xLUfulRTyA/viewform?usp=sf_link\n",
      " 6/8 postgres 과제  / https://docs.google.com/forms/d/e/1FAIpQLSftZ-2VYfHB46FrwFG2HjbRDBtLSO0XP2BmiHh3iqwGoi3pQQ/viewform?usp=sf_link\n",
      " 6/8 파이썬 제어문  / https://docs.google.com/forms/d/e/1FAIpQLSeZBKjrZD1nAf4aAYhz_WEAqbzwPUPihgMEfXy74e0IMRwXKw/viewform?usp=sf_link\n",
      " 6/7 파이썬 자료형  / https://docs.google.com/forms/d/e/1FAIpQLSdvFbZGNm7rSGQO_daDSWHC8o1BNgZtIBajLaiOcvgV2iV0IA/viewform?usp=sf_link\n",
      " 5/31 파이썬 머신러닝  / https://docs.google.com/forms/d/e/1FAIpQLSehRuBYKpXNULxkamM8zVOd_mkFwZYwKtAp8Px0Kl0oCJbIeA/viewform?usp=sf_link\n",
      " 5/24 파이썬 시작하기  / https://docs.google.com/forms/d/e/1FAIpQLSeVt843wk9MBxLj0N84q_8Vg4yL1jTrOygA5Cm3z-asPDY1sg/viewform?usp=sf_link\n",
      " 5/3 Spark 심화과정-groupby / https://docs.google.com/forms/d/e/1FAIpQLScsDv_0mTFuJMqGfvrdjFAxVdeGOBpo8wOQSm5OiW1XcdBDFg/viewform?usp=sf_link\n",
      " 4/27 Spark 심화과정  / https://docs.google.com/forms/d/e/1FAIpQLSdNCn-NrLuFse4w2C36vqRPGUXtXDDsfLLxm-Sv9E7PwRwbrQ/viewform?usp=sf_link\n",
      " 4/12 Spark 기본과정  / https://docs.google.com/forms/d/e/1FAIpQLSdfsGBmTFPfhZfFsKAOBOWx_x6f3mouhggIaYXbjW4EHbnBdA/viewform?usp=sf_link\n",
      " 6/12 오라클 Join 퀴즈  / https://docs.google.com/forms/d/e/1FAIpQLSff5TjqUq9u-jRxYZvTdB7k-N0AEjx0_WSIcLZCBfFiEfoRUA/viewform?usp=sf_link\n",
      " 6/5 오라클 GroupBy 퀴즈  / https://docs.google.com/forms/d/e/1FAIpQLScP3ojzBNFbKbTFq4r58GqqZODYom1d6jrn09rmdqT57uByVA/viewform?usp=sf_link\n",
      " 5/29 오라클 숫자/날짜 및 고급함수  / https://docs.google.com/forms/d/e/1FAIpQLSfU5Pv_GQOLV-SkrDirOGt4GLDP3sZpy-UPY4zsud2ODPknbA/viewform?usp=sf_link\n",
      " 5/15 오라클 데이터 조회(함수활용)   / https://docs.google.com/forms/d/e/1FAIpQLSdFuYrwaYE6HEzQft21Icj_2yPyQqkcSabuvnaWwO47v99XmA/viewform?usp=sf_link\n",
      " 5/8 오라클 원격접속 및 조회  / https://docs.google.com/forms/d/e/1FAIpQLSd8MAsXIKIteOM4OFCggUoYeOqC5aGI-2aQFLV8533HkbTz-w/viewform?usp=sf_link\n",
      " 4/10 무결성 제약조건  / https://docs.google.com/forms/d/e/1FAIpQLSeYl0KM70XWhjnTIVLfqX5H5tp2V3jx2bwJMyZrTSeak2HZWw/viewform?usp=sf_link\n"
     ]
    }
   ],
   "source": [
    "import requests, bs4, pandas as pd, numpy as np\n",
    " \n",
    "#웹페이지 html 소스 가져오기\n",
    "resp = requests.get('http://13.209.33.89:3333/quiz')\n",
    "resp.encoding='utf-8'\n",
    "html = resp.text\n",
    "bs = bs4.BeautifulSoup(html, 'html.parser')\n",
    "# html 부분구조 가져오기\n",
    "a_links = bs.findAll(\"a\")\n",
    "for a in a_links:\n",
    "    href= a.attrs[\"href\"]\n",
    "    #a 링크 텍스트\n",
    "    text = a.text\n",
    "    if(href.startswith(\"/\")):\n",
    "        continue;\n",
    "        \n",
    "    print(text, \"/\", href)   "
   ]
  },
  {
   "cell_type": "markdown",
   "metadata": {},
   "source": [
    "## 데이터 불러오기 from web [select 편]\n"
   ]
  },
  {
   "cell_type": "code",
   "execution_count": 7,
   "metadata": {},
   "outputs": [
    {
     "name": "stdout",
     "output_type": "stream",
     "text": [
      "usd/krw=  1,082.70\n"
     ]
    }
   ],
   "source": [
    "import requests, bs4, pandas as pd, numpy as np\n",
    "\n",
    "# 웹페이지 html 소스 가져오기\n",
    "resp = requests.get(\"http://finance.naver.com/marketindex/\")\n",
    "resp.encoding='utf-8'\n",
    "html = resp.text\n",
    "\n",
    "bs = bs4.BeautifulSoup(html, 'html.parser')\n",
    "\n",
    "# 데이터 추출하기\n",
    "price = bs.select_one(\"div.head_info > span.value\").string\n",
    "print(\"usd/krw= \", price)\n",
    "\n",
    "#리스트 초기화 및 데이터 담기\n",
    "outList = []\n",
    "outList.append(price)\n",
    "\n",
    "# 리스트 pandas 데이터 프레임으로 변환 및 컬럼 정의\n",
    "outDf = pd.DataFrame(np.array(outList).reshape(1,1))\n",
    "outDf.columns = ['title']"
   ]
  },
  {
   "cell_type": "markdown",
   "metadata": {},
   "source": [
    "## 데이터 불러오기 from web [테이블 스크랩 - 컬럼편]\n"
   ]
  },
  {
   "cell_type": "code",
   "execution_count": 16,
   "metadata": {},
   "outputs": [
    {
     "ename": "NameError",
     "evalue": "name 'soup' is not defined",
     "output_type": "error",
     "traceback": [
      "\u001b[1;31m---------------------------------------------------------------------------\u001b[0m",
      "\u001b[1;31mNameError\u001b[0m                                 Traceback (most recent call last)",
      "\u001b[1;32m<ipython-input-16-582f16c53157>\u001b[0m in \u001b[0;36m<module>\u001b[1;34m()\u001b[0m\n\u001b[0;32m      8\u001b[0m \u001b[1;33m\u001b[0m\u001b[0m\n\u001b[0;32m      9\u001b[0m \u001b[1;31m# html 부분구조 가져오기\u001b[0m\u001b[1;33m\u001b[0m\u001b[1;33m\u001b[0m\u001b[0m\n\u001b[1;32m---> 10\u001b[1;33m \u001b[0mcolumns\u001b[0m\u001b[1;33m=\u001b[0m\u001b[0msoup\u001b[0m\u001b[1;33m.\u001b[0m\u001b[0mselect\u001b[0m\u001b[1;33m(\u001b[0m\u001b[1;34m'table > tr > th'\u001b[0m\u001b[1;33m)\u001b[0m\u001b[1;33m\u001b[0m\u001b[0m\n\u001b[0m\u001b[0;32m     11\u001b[0m \u001b[0mcolumns\u001b[0m\u001b[1;33m\u001b[0m\u001b[0m\n\u001b[0;32m     12\u001b[0m \u001b[1;33m\u001b[0m\u001b[0m\n",
      "\u001b[1;31mNameError\u001b[0m: name 'soup' is not defined"
     ]
    }
   ],
   "source": [
    "import requests, bs4, pandas as pd, numpy as np\n",
    " \n",
    "#웹페이지 html 소스 가져오기\n",
    "resp = requests.get('http://13.209.33.89:3333/maps')\n",
    "resp.encoding='utf-8'\n",
    "html = resp.text\n",
    "bs = bs4.BeautifulSoup(html, 'html.parser')\n",
    "\n",
    "# html 부분구조 가져오기\n",
    "columns=soup.select('table > tr > th')\n",
    "columns\n",
    "\n",
    "columnlist=[]\n",
    "for column in columns:\n",
    "    columnlist.append(column.text)\n",
    "df=pd.DataFrame(columns=columnlist)"
   ]
  },
  {
   "cell_type": "code",
   "execution_count": null,
   "metadata": {},
   "outputs": [],
   "source": []
  }
 ],
 "metadata": {
  "kernelspec": {
   "display_name": "Python 3",
   "language": "python",
   "name": "python3"
  },
  "language_info": {
   "codemirror_mode": {
    "name": "ipython",
    "version": 3
   },
   "file_extension": ".py",
   "mimetype": "text/x-python",
   "name": "python",
   "nbconvert_exporter": "python",
   "pygments_lexer": "ipython3",
   "version": "3.6.4"
  }
 },
 "nbformat": 4,
 "nbformat_minor": 2
}
