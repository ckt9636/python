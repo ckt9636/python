{
 "cells": [
  {
   "cell_type": "markdown",
   "metadata": {},
   "source": [
    "## 5. 데이터 불러오기 from 분산파일시스템 (hadoop)\n"
   ]
  },
  {
   "cell_type": "code",
   "execution_count": 1,
   "metadata": {},
   "outputs": [],
   "source": [
    "# Pandas and hdfs 패키지\n",
    "import pandas as pd\n",
    "from hdfs import InsecureClient\n",
    "import os\n",
    "# hdfs 설정\n",
    "client_hdfs = InsecureClient('http://192.168.110.114:50070')\n",
    "\n",
    "# Test PandasDataFrame 생성 및 넣기\n",
    "liste_hello = ['hello1','hello2']\n",
    "liste_world = ['world1','world2']\n",
    "df = pd.DataFrame(data = {'hello' : liste_hello, 'world': liste_world})\n",
    "\n",
    "# 데이터프레임 hdfs에 저장\n",
    "with client_hdfs.write('/mydata/helloworld_ckj.csv', encoding = 'utf-8') as writer:\n",
    "    df.to_csv(writer)\n",
    "\n",
    "# 데이터 읽기\n",
    "# ====== Reading files ======\n",
    "with client_hdfs.read('/mydata/helloworld.csv', encoding = 'utf-8') as reader:\n",
    "    readdf=pd.read_csv(reader,index_col=0)\n"
   ]
  },
  {
   "cell_type": "code",
   "execution_count": null,
   "metadata": {},
   "outputs": [],
   "source": []
  }
 ],
 "metadata": {
  "kernelspec": {
   "display_name": "Python 3",
   "language": "python",
   "name": "python3"
  },
  "language_info": {
   "codemirror_mode": {
    "name": "ipython",
    "version": 3
   },
   "file_extension": ".py",
   "mimetype": "text/x-python",
   "name": "python",
   "nbconvert_exporter": "python",
   "pygments_lexer": "ipython3",
   "version": "3.6.4"
  }
 },
 "nbformat": 4,
 "nbformat_minor": 2
}
